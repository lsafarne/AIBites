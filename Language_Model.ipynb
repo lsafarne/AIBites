{
 "cells": [
  {
   "cell_type": "markdown",
   "metadata": {},
   "source": [
    "<h1>Language Models</h1>"
   ]
  },
  {
   "cell_type": "markdown",
   "metadata": {
    "collapsed": true
   },
   "source": [
    "<h1>Overview</h1>"
   ]
  },
  {
   "cell_type": "markdown",
   "metadata": {},
   "source": [
    "This post aims to explain what a language model is and how we can build a simple one. You have likely heard or read news about Language Models, especially Large Language Models (or LLMs for short), frequently these days since the release of <b>ChatGPT</b>. \n",
    "\n",
    "<b>ChatGPT</b>, which is built on top of LLMs like GPT-4, has become a notable example in the field. In this notebook, I will show you how to construct a language model from scratch. As we proceed step by step, I'll also discuss some considerations and challenges associated with building and training such models, as well as how the experts in the field have addressed them.\n",
    "\n",
    "<b>Should I build my own language model?</b>\n",
    "\n",
    "Probably not! Building a language model, especially a large one, from scratch is often not practical for most individuals or even small teams. This is because training such models requires extensive computational resources and large, high-quality datasets. Instead, many people opt to use pre-trained models and fine-tune them for specific tasks. However, even fine-tuning can be computationally expensive and may not yield good results if your dataset is small due to the risk of overfitting.\n",
    "\n",
    "As alternatives, several strategies exist:\n",
    "<ul>\n",
    "    <li><b>Retrieval-augmented Generation (RAG)</b>: Merges pre-trained models with external databases, letting the model fetch relevant external data when needed.</li>\n",
    "    <li><b>Few-shot Learning</b>: Guides a model to generalize tasks using only a handful of examples provided in the input.</li>\n",
    "    <li><b>In-context Learning</b>: Leverages the model's ability to adapt based on the context within the input prompt.</li>\n",
    "</ul>\n",
    "These methods offer a more resource-efficient way to tap into the power of large language models. Please note that this post primarily centers around constructing a toy language model. In upcoming posts, I will delve into these alternative methodologies.\n",
    "\n",
    "<b>Why should I then bother to learn how language models are built? </b>\n",
    "\n",
    "Understanding the mechanics of language models can empower you to use them more effectively. When you're implementing these models in real-world scenarios, having a solid foundational knowledge will help you troubleshoot issues, optimize performance, and make informed decisions about which model to use and how to adapt it for your specific needs."
   ]
  },
  {
   "cell_type": "markdown",
   "metadata": {},
   "source": [
    "<h3>What is a language model?</h3>"
   ]
  },
  {
   "cell_type": "markdown",
   "metadata": {},
   "source": [
    "A language model is a probability distribution over a sequence of tokens drawn from a specific vocabulary. For example, if we consider the vocabulary to be the English language, then a sequence of tokens could be the sentence 'The sky is blue.'\n",
    "\n",
    "<b>What does it mean when we say, 'A language model is a probability distribution,' and how can we utilize this concept?</b>\n",
    "\n",
    "Mathematically speaking, considering the vocabulary $V$, for every sequence of tokens $x_1,...x_m$, where each token $x_i \\in V $, a language model is defined by the probability distribution $p(x_1,x_2,...,x_m)$. In other words, $p(x_1,x_2,...,x_m)$ tells us how likely a sequence of tokens is to be observed. Of cource, we expect that this probability distribution assigns a high probability to correct sequences while giving small probability to incorrect or meaningless sequences. For example, we expect $p(.)$ to give a higher probability to 'The sky is blue' in comparison to 'A sky was the blue'\n",
    "\n",
    "Now let's delve into some mathematics to see what we can drive from $p(.)$.\n",
    "\n",
    "Using the chain rule of probability, we can rewrite $p(x_1,x_2,...,x_m)$ as follows:\n",
    "$$p(x_{1:m})=p(x_1)p(x_2∣x_1)p(x_3∣x_1,x_2)⋯p(x_m∣x_{1:m−1})=\\prod_{i=1}^m p(x_i∣x_{1:i−1}).$$\n",
    "Here, each term in the multiplication represents the conditional probability of the current token given the previous tokens. \n",
    "\n",
    "Knowing the conditional probability $p(x_i∣x_{1:i−1})$ means that given the sequence $x_1,...,x_{i−1}$, we can sample the next token $x_i$ from the vocabulary, and then sample another one, and so on. Sampling the tokens one after another implies that we are <b><i>generating</i></b> a sequence of vocabularies or in other words, we are <b><i>generating</i></b> a text. \n",
    "\n",
    "<b>Now, one key question to ask is, 'Do we know this probability distribution?' if not, Can we estimate it? </b>    \n",
    "The answer to the first question is 'No! We do not.' The answer to the latter one is 'Yes! We can.' \n",
    "\n",
    "Historically, before the rise of advanced NLP techniques, n-gram language modeling was a popular approach to approximate these probabilities. An n-gram is a contiguous sequence of 'n' items from a given sample of text. For example, in a bigram model (where n=2), we'd use the probability of a word appearing after its preceding word to estimate $p(x_i∣x_{1:i−1})$. In a trigram model (where n=3), we use the previous two words. These models were constructed by analyzing vast amounts of text and <b>counting</b> the frequencies of word sequences. However, n-gram models have their limitations, especially when dealing with long dependencies between words, since they only consider a fixed number of preceding words.\n",
    "\n",
    "This is where Deep Neural Networks, especially Transformers, come to the rescue. These modern architectures, which are mainly based on Transformers, are designed to capture broader and more nuanced textual contexts than traditional n-gram models. Using self-attention mechanisms, which are the key componenents of the Transformer architectures, they consider relationships between all words in a sentence, enabling them to recognize long-range dependencies. Moreover, they do not just count word sequences; they learn abstract patterns and deep structures within the language. This combination of wider context understanding and depth of learning allows them to more accurately reflect and generate the multifaceted intricacies of natural language can consider much wider contexts and more abstract patterns in the data, making them better suited for estimating the intricate probability distributions that govern natural language."
   ]
  },
  {
   "cell_type": "markdown",
   "metadata": {},
   "source": [
    "<b>Summary</b>\n",
    "<ul>\n",
    "  <li>A language model is a probability distribution over a sequence of tokens drawn from a specific vocabulary.</li>\n",
    "  <li>Mathematically, this probability distribution is defined by $p(x_1,x_2,...,x_m) =\\prod_{i=1}^m p(x_i∣x_1:i−1).$</li>\n",
    "  <li>We do not know this probability distribution but we can estimate by building a special deep neural network.</li>\n",
    "    <li>The model, which estimates the language model, can then be utilized to generate meaningful texts.</li>\n",
    "</ul>"
   ]
  },
  {
   "cell_type": "markdown",
   "metadata": {},
   "source": [
    "<h3>Analyzing Sequential Data Using Deep Neural Networks</h3>\n"
   ]
  },
  {
   "cell_type": "markdown",
   "metadata": {},
   "source": [
    "<h3>Recurrent Neural Networks (RNNs)</h3>"
   ]
  },
  {
   "cell_type": "markdown",
   "metadata": {},
   "source": [
    "NLP tasks, such as Language Modeling and Machine Translation, require analyzing data sequentially. Traditional feedforward neural networks are not capable of handling dependencies in sequential data, as they lack any memory of previous inputs. This is where RNNs (Recurrent Neural Networks), and later on, Transformers, come into the scene. Unlike traditional feedforward networks, RNNs are able to maintain a hidden state that acts as a form of memory, enabling them to capture information about previous inputs in the sequence.\n",
    "\n",
    "This characteristic makes RNNs well-suited for various tasks. For example, they are ideal for text generation and machine translation. Due to their ability to model temporal dependencies, they can be used for forecasting stock prices, weather, and other time-dependent phenomena. The sequential nature of audio signals makes RNNs valuable for speech recognition tasks. Additionally, they can analyze sequences of video frames to recognize actions or gestures over time.\n",
    "\n",
    "However, traditional RNNs suffered from problems like vanishing or exploding gradients, making them difficult to train on long sequences. This led to the development of more advanced types of RNNs, such as Long Short-Term Memory (LSTM) networks and Gated Recurrent Units (GRUs), which are designed to better capture long-range dependencies in sequential data. While LSTMs and GRUs are designed to capture long-range dependencies, they may still be challenged by the inherent sequential nature of their processing, limiting their parallelization efficiency and potentially affecting their ability to model extremely complex dependencies. In contrast, Transformers use a self-attention mechanism that allows them to directly model relationships between all parts of the input sequence, regardless of distance. This parallel processing enables more efficient training and can provide Transformers with a significant advantage in tasks requiring a nuanced understanding of context and long-range interactions between elements in a sequence."
   ]
  },
  {
   "cell_type": "markdown",
   "metadata": {},
   "source": [
    "<h3>Transformers</h3>"
   ]
  },
  {
   "cell_type": "markdown",
   "metadata": {},
   "source": [
    "Transformers are a type of neural network architecture introduced by Vaswani et al. in the paper \"<a href=https://arxiv.org/abs/1706.03762>Attention is All You Need</a>\". As opposed to sequential models like RNNs, LSTMs, and GRUs, Transformers are able to process an entire sequence of data simultaneously rather than sequentially.\n",
    "The core of the Transformer architecture is the attention mechanism, which allows the model to weigh the importance of different parts of the input (e.g. different tokens in a sequence of tokens) when processing each individual element (e.g., a token). This enables the Transformer to capture complex relationships and dependencies between all parts of the input, regardless of their distance from each other in the sequence.\n",
    "\n",
    "A typical Transformer model consists of an encoder and a decoder, each composed of several layers of self-attention and feed-forward neural networks. The encoder processes the input sequence (e.g. an English sentence), and the decoder generates the output (e.g. the equivalent French translation of the input), with attention mechanisms at each layer allowing the model to focus on different parts of the input as needed\n",
    "\n",
    "The parallel processing nature of the Transformer architecture makes it highly efficient for training on modern GPUs, and its flexibility and scalability have led to its adoption in a wide variety of natural language processing tasks, including machine translation, text generation, and language understanding. Transformers have served as the foundation for many state-of-the-art models, such as BERT and GPT series"
   ]
  },
  {
   "cell_type": "markdown",
   "metadata": {},
   "source": [
    "In this post, I will not be delving further into the architecture of Transformers. Interested readers can refer to <a href='http://jalammar.github.io/illustrated-transformer/'>this post</a> by Jay Alammar, which provides an amazing explanation and illustration of Transformers."
   ]
  },
  {
   "cell_type": "markdown",
   "metadata": {},
   "source": [
    "<b>Summary</b>\n",
    "<ul>\n",
    "  <li>Traditional feedforward neural networks are not capable of handling dependencies in sequential data, as they lack any memory of previous inputs. \n",
    "  <li>RNNs are able to maintain a hidden state that acts as a form of memory, enabling them to capture information about previous inputs in the sequence.</li>\n",
    "  <li>Traditional RNNs suffered from problems like vanishing or exploding gradients, making them difficult to train on long sequences. </li>\n",
    "    <li>LSTMs and GRUs are more advanced types of RNNs which are designed to better capture long-range dependencies in sequential data. </li>\n",
    "    <li>LSTMs and GRUs still suffer from the inherent sequential nature of their processing, which limits their parallelization efficiency and potentially affects their ability to model extremely complex dependencies. </li>\n",
    "    <li>Transformers, as opposed to RNNs, LSTMs, and GRUs, are able to process an entire sequence of data in parallel rather than sequentially.</li>\n",
    "    <li>The core of the Transformers is the attention mechanism which enables the Transformers to capture complex relationships and dependencies between all parts of the input, regardless of their distance from each other in the sequence.</li>\n",
    "</ul>"
   ]
  },
  {
   "cell_type": "markdown",
   "metadata": {},
   "source": [
    "<h3>Building and Training a Language Model </h3>\n"
   ]
  },
  {
   "cell_type": "markdown",
   "metadata": {},
   "source": [
    "Now that we have learned what a language model is theoretically, it is time to gain some hands-on experience by implementing a real yet simple language model. \n",
    "\n",
    "Here is the roadmap:\n",
    "<ul>\n",
    "    <li>First, we will start by building a simple language model using RNNs. Although modern language models often use Transformers at their cores, I believe that exploring both approaches will be a valuable learning experience.\n",
    "</li>\n",
    "    <li>Second, I will alter the model to use Transformers instead. \n",
    "</li>\n",
    "    <li>Third, I will further expand the model by introducing the concept of Mixture of Experts and Switch Transformers.  </li>\n",
    "    <li>Lastly, using a publicly available dataset, I will demonstrate how to train the final model.</li>\n",
    "</ul>\n"
   ]
  },
  {
   "cell_type": "markdown",
   "metadata": {},
   "source": [
    "<h3>An RNN based Langauage Model</h3>"
   ]
  },
  {
   "cell_type": "code",
   "execution_count": 1,
   "metadata": {},
   "outputs": [],
   "source": [
    "import torch.nn as nn"
   ]
  },
  {
   "cell_type": "code",
   "execution_count": 2,
   "metadata": {},
   "outputs": [],
   "source": [
    "class LanguageModelRNN(nn.Module):\n",
    "    def __init__(self, vocab_size, embedding_dim, hidden_size):\n",
    "        super(LanguageModelRNN, self).__init__()\n",
    "        self.embedding = nn.Embedding(vocab_size, embedding_dim)\n",
    "        self.rnn = nn.LSTM(embedding_dim, hidden_size, batch_first=True)\n",
    "        self.fc = nn.Linear(hidden_size, vocab_size)\n",
    "\n",
    "    def forward(self, x):\n",
    "        embedded = self.embedding(x)\n",
    "        output, _ = self.rnn(embedded)\n",
    "        # Use the entire sequence of outputs\n",
    "        output = self.fc(output)\n",
    "        return output"
   ]
  },
  {
   "cell_type": "markdown",
   "metadata": {},
   "source": [
    "The above LanguageModelRNN class has a very simple architecture, consisting only one layer of LSTM and one fully connected layer. \n",
    "Please note that the output size is implicitly determined by the vocab_size parameter when setting up the final fully connected layer (self.fc). Since we're building a language model, the output dimension is naturally the size of the vocabulary. That is, for each token in the input sequence, the model predicts a distribution over the entire vocabulary for the next token. This is why the fully connected layer uses hidden_size as the input dimension and vocab_size as the output dimension."
   ]
  },
  {
   "cell_type": "markdown",
   "metadata": {},
   "source": [
    "<h3>An Transformer based Langauage Model</h3>"
   ]
  },
  {
   "cell_type": "markdown",
   "metadata": {},
   "source": [
    "Earlier in this post, I discussed a few limitations of RNNs and how transformers address them. Additionally, State-of-the-art language models, such ascLLAMA and GPT models, mainly use transformers in their architectures. Thus, I will Replace the LSTM layer with a transformer encoder. The transformer encoder takes a sequence of embeddings and returns a sequence of encoded vectors."
   ]
  },
  {
   "cell_type": "code",
   "execution_count": 3,
   "metadata": {
    "pycharm": {
     "is_executing": true
    }
   },
   "outputs": [],
   "source": [
    "from torch.nn import TransformerEncoder, TransformerEncoderLayer"
   ]
  },
  {
   "cell_type": "code",
   "execution_count": 4,
   "metadata": {},
   "outputs": [],
   "source": [
    "class LanguageModelTransform(nn.Module):\n",
    "    def __init__(self, vocab_size, embedding_dim, hidden_size, num_heads, num_layers):\n",
    "        super(LanguageModelTransform, self).__init__()\n",
    "        self.embedding = nn.Embedding(vocab_size, embedding_dim)\n",
    "\n",
    "        # Transformer layer\n",
    "        encoder_layers = TransformerEncoderLayer(embedding_dim, num_heads, hidden_size)\n",
    "        self.transformer_encoder = TransformerEncoder(encoder_layers, num_layers)\n",
    "\n",
    "        self.fc = nn.Linear(embedding_dim, vocab_size)\n",
    "\n",
    "    def forward(self, x):\n",
    "        embedded = self.embedding(x)\n",
    "        output = self.transformer_encoder(embedded) # Transform through the transformer encoder\n",
    "        output = self.fc(output) # Final fully connected layer\n",
    "        return output\n"
   ]
  },
  {
   "cell_type": "markdown",
   "metadata": {},
   "source": [
    "Please note that, in reality, SOTA language models have billions of parameters. This is why they are often referred to as Large Language Models (LLMs). Training such models also requires tremendous computational power. I will discuss considerations for training these LLMs in a subsequent. However, in the following sections, I will demonstrate how to train our small-scale language model."
   ]
  },
  {
   "cell_type": "markdown",
   "metadata": {},
   "source": [
    "<h2>Training</h2>"
   ]
  },
  {
   "cell_type": "markdown",
   "metadata": {},
   "source": [
    "To train a language model, we first define a specific task. By repeatedly performing this task over several epochs, the model adjusts its parameters to improve its performance on that task. The task we utilize for training our language model is: \"Given a sequence of tokens, predict the next token. \n",
    "\n",
    "Before starting the training, we should prepare the dataset."
   ]
  },
  {
   "cell_type": "markdown",
   "metadata": {},
   "source": [
    "<h3>Dataset and Preprocessing</h3>"
   ]
  },
  {
   "cell_type": "markdown",
   "metadata": {},
   "source": [
    "In this article, we'll leverage a publicly available dataset to train our concise language model. There are several datasets available for such tasks, including Wikitext-103, Penn Treebank (PTB), Text8, and Gutenberg. For our purposes, we'll utilize the Penn Treebank (PTB) dataset, accessible via PyTorch's built-in datasets.\n",
    "\n",
    "For NLP tasks, it's essential to break down input text into a series of tokens, a process known as tokenization. While there are various methods to achieve this, SentencePiece and Byte-Pair Encoding (BPE) stand out as advanced tokenization techniques adept for many NLP tasks. I've delved into these methods in a <a href=https://github.com/lsafarne/NLPBites.github.io/blob/main/text_tokenization.ipynb>previous post</a>. To ensure clarity and brevity in this article, I recommend readers interested in a deeper understanding to refer to that post."
   ]
  },
  {
   "cell_type": "code",
   "execution_count": 5,
   "metadata": {},
   "outputs": [
    {
     "data": {
      "text/plain": [
       "True"
      ]
     },
     "execution_count": 5,
     "metadata": {},
     "output_type": "execute_result"
    }
   ],
   "source": [
    "import sentencepiece as spm\n",
    "from torchtext.datasets import PennTreebank\n",
    "\n",
    "# Load the trained SentencePiece model\n",
    "sp = spm.SentencePieceProcessor()\n",
    "sp.load('models/SentencePiecePennTree.model')"
   ]
  },
  {
   "cell_type": "markdown",
   "metadata": {},
   "source": [
    "After loading the SentencePiece tokenizer model, we'll utilize PyTorch's Dataset and DataLoader classes. In PyTorch, the Dataset class provides a consistent interface for accessing our data, while the DataLoader class allows efficient and parallelized loading of the data, simplifying the batching process."
   ]
  },
  {
   "cell_type": "code",
   "execution_count": 6,
   "metadata": {},
   "outputs": [],
   "source": [
    "from torch.utils.data import DataLoader, Dataset\n",
    "\n",
    "class PTBDataset(Dataset):\n",
    "    def __init__(self, data, seq_len=30):\n",
    "        tokens = sp.encode_as_ids(data)\n",
    "        self.data = [tokens[i:i+seq_len] for i in range(len(tokens) - seq_len)]\n",
    "        self.targets = [tokens[i+1:i+seq_len+1] for i in range(len(tokens) - seq_len)]\n",
    "\n",
    "    def __len__(self):\n",
    "        return len(self.data)\n",
    "\n",
    "    def __getitem__(self, idx):\n",
    "        return torch.tensor(self.data[idx]), torch.tensor(self.targets[idx])\n",
    "\n",
    "def get_raw_text_from_dataset(dataset):\n",
    "    res = ''\n",
    "    for sentence in dataset:\n",
    "        res = res + sentence\n",
    "    return res\n",
    "\n",
    "train_raw_text = get_raw_text_from_dataset(PennTreebank(split='train'))\n",
    "valid_raw_text = get_raw_text_from_dataset(PennTreebank(split='valid'))\n",
    "\n",
    "train_dataset = PTBDataset(train_raw_text)\n",
    "valid_dataset = PTBDataset(valid_raw_text)\n",
    "\n",
    "train_loader = DataLoader(train_dataset, batch_size=64, shuffle=True)\n",
    "valid_loader = DataLoader(valid_dataset, batch_size=64)"
   ]
  },
  {
   "cell_type": "markdown",
   "metadata": {},
   "source": [
    "The code inside the PTBDataset class is designed to preprocess text data for training a language model. Let's break down the code step by step:\n",
    "<ul>\n",
    "<li>tokens = sp.encode_as_ids(data)\n",
    "    <br/>\n",
    "    This line uses the SentencePiece model (referred to by sp) to convert the input text data (a long string of text) into a list of integer tokens.\n",
    "    For instance, the text \"Hello world\" might get converted to something like [320, 5432] depending on the SentencePiece model's vocabulary.\n",
    "</li>\n",
    "<li> self.data = [tokens[i:i+seq_len] for i in range(len(tokens) - seq_len)]\n",
    "    <br/>\n",
    "    This line is generating a list of sequences from the tokens list. Each sequence has a length of seq_len.\n",
    "    These sequences serve as the input to the language model. <span style=\"background-color: yellow;\">The idea is to use sequences of tokens to predict the next token in the sequence.</span>\n",
    "    For example, if tokens = [1, 2, 3, 4, 5, 6, 7, 8] and seq_len = 5, then self.data would be [[1, 2, 3, 4, 5], [2, 3, 4, 5, 6], [3, 4, 5, 6, 7]].\n",
    "</li>\n",
    "<li>self.targets = [tokens[i+1:i+seq_len+1] for i in range(len(tokens) - seq_len)]\n",
    "    <br/>\n",
    "    This line creates the target sequences. These are the tokens the model should predict given the input sequences.\n",
    "    The target for each input sequence is shifted by one token, as the goal is to predict the next token in the sequence.\n",
    "    Continuing the example above, if self.data has sequences [[1, 2, 3, 4, 5], [2, 3, 4, 5, 6], [3, 4, 5, 6, 7]], then self.targets would be [[2, 3, 4, 5, 6], [3, 4, 5, 6, 7], [4, 5, 6, 7, 8]].\n",
    "</li>\n",
    "</ul>"
   ]
  },
  {
   "cell_type": "markdown",
   "metadata": {},
   "source": [
    "<h3>Training Loop</h3>"
   ]
  },
  {
   "cell_type": "code",
   "execution_count": 16,
   "metadata": {},
   "outputs": [
    {
     "name": "stdout",
     "output_type": "stream",
     "text": [
      "Epoch: 1 | Batch: 1 | train_Loss: 9.090035438537598\n",
      "Epoch: 1 | Batch: 501 | train_Loss: 3.9951939582824707\n",
      "Epoch: 1 | Batch: 1001 | train_Loss: 4.204617023468018\n",
      "Epoch: 1 | Batch: 1501 | train_Loss: 4.032776355743408\n",
      "Epoch: 1 | Batch: 2001 | train_Loss: 3.9735867977142334\n",
      "Epoch: 1 | Batch: 2501 | train_Loss: 3.9041733741760254\n",
      "Epoch: 1 | Batch: 3001 | train_Loss: 3.9099249839782715\n",
      "Epoch: 1 | Batch: 3501 | train_Loss: 4.031251430511475\n",
      "Epoch: 1 | Batch: 4001 | train_Loss: 3.77136492729187\n",
      "Epoch: 1 | Batch: 4501 | train_Loss: 3.6122336387634277\n",
      "Epoch: 1 | Batch: 5001 | train_Loss: 3.7388365268707275\n",
      "Epoch: 1 | Batch: 5501 | train_Loss: 3.7385778427124023\n",
      "Epoch: 1 | Batch: 6001 | train_Loss: 3.8149800300598145\n",
      "Epoch: 1 | Batch: 6501 | train_Loss: 3.74405574798584\n",
      "Epoch: 1 | Batch: 7001 | train_Loss: 3.7877562046051025\n",
      "Epoch: 1 | Batch: 7501 | train_Loss: 3.624741554260254\n",
      "Epoch: 1 | Batch: 8001 | train_Loss: 3.727397918701172\n",
      "Epoch: 1 | Batch: 8501 | train_Loss: 3.681432008743286\n",
      "Epoch: 1 | Batch: 9001 | train_Loss: 3.650866985321045\n",
      "Epoch: 1 | Batch: 9501 | train_Loss: 3.718238353729248\n",
      "Epoch: 1 | Batch: 10001 | train_Loss: 3.7839467525482178\n",
      "Epoch: 1 | Batch: 10501 | train_Loss: 3.6852738857269287\n",
      "Epoch: 1 | Batch: 11001 | train_Loss: 3.9226694107055664\n",
      "Epoch: 1 | Batch: 11501 | train_Loss: 3.7386369705200195\n",
      "Epoch: 1 | Batch: 12001 | train_Loss: 3.5976336002349854\n",
      "Epoch: 1 | Batch: 12501 | train_Loss: 3.6707067489624023\n",
      "Epoch: 1 | Batch: 13001 | train_Loss: 3.52266526222229\n",
      "Epoch: 1 | Batch: 13501 | train_Loss: 3.644097089767456\n",
      "Epoch: 1 | Batch: 14001 | train_Loss: 3.825873613357544\n",
      "Epoch: 1 | Batch: 14501 | train_Loss: 3.5461220741271973\n",
      "Epoch: 1 | Batch: 15001 | train_Loss: 3.8169145584106445\n",
      "Epoch: 1 | Batch: 15501 | train_Loss: 3.5988857746124268\n",
      "Epoch: 1 | Batch: 16001 | train_Loss: 3.4721758365631104\n",
      "Epoch: 1 | Batch: 16501 | train_Loss: 3.547858238220215\n",
      "Epoch: 1 | Batch: 17001 | train_Loss: 3.886030912399292\n",
      "Epoch: 1 | Batch: 17501 | train_Loss: 3.8068692684173584\n",
      "Epoch: 1 | Batch: 18001 | train_Loss: 3.6215322017669678\n",
      "Epoch: 1 | Batch: 18501 | train_Loss: 3.6788148880004883\n",
      "Epoch: 1 | Batch: 19001 | train_Loss: 3.489790201187134\n",
      "Epoch: 1 | Batch: 19501 | train_Loss: 3.43900728225708\n",
      "Epoch: 1 | Batch: 1 | validation_Loss: 3.700885057449341\n",
      "Epoch: 1 | Batch: 101 | validation_Loss: 2.93111252784729\n",
      "Epoch: 1 | Batch: 201 | validation_Loss: 5.366751670837402\n",
      "Epoch: 1 | Batch: 301 | validation_Loss: 3.5140421390533447\n",
      "Epoch: 1 | Batch: 401 | validation_Loss: 4.67317008972168\n",
      "Epoch: 1 | Batch: 501 | validation_Loss: 3.1282687187194824\n",
      "Epoch: 1 | Batch: 601 | validation_Loss: 4.562710762023926\n",
      "Epoch: 1 | Batch: 701 | validation_Loss: 3.7768845558166504\n",
      "Epoch: 1 | Batch: 801 | validation_Loss: 4.832979679107666\n",
      "Epoch: 1 | Batch: 901 | validation_Loss: 4.67512321472168\n",
      "Epoch: 1 | Batch: 1001 | validation_Loss: 4.675665378570557\n",
      "Epoch: 1 | Batch: 1101 | validation_Loss: 4.992780685424805\n",
      "Epoch: 1 | Batch: 1201 | validation_Loss: 4.403886318206787\n",
      "Epoch: 1 | Batch: 1301 | validation_Loss: 5.276221752166748\n",
      "Epoch: 1 | Batch: 1401 | validation_Loss: 3.4252805709838867\n",
      "Epoch: 1 | Batch: 1501 | validation_Loss: 4.797945022583008\n",
      "After epoch 1: Average Train Loss: 3.7662, Average Validation Loss: 4.3437\n"
     ]
    }
   ],
   "source": [
    "import torch\n",
    "import torch.optim as optim\n",
    "\n",
    "device = 'cuda' if torch.cuda.is_available() else 'cpu'\n",
    "\n",
    "# Initialize the model\n",
    "vocab_size = sp.get_piece_size()\n",
    "model = LanguageModelTransform(vocab_size, embedding_dim=256, hidden_size=512, num_heads=4, num_layers=2).to(device)\n",
    "\n",
    "criterion = nn.CrossEntropyLoss()\n",
    "optimizer = optim.Adam(model.parameters())\n",
    "\n",
    "# Lists for storing losses for each epoch\n",
    "train_losses = []\n",
    "val_losses = []\n",
    "\n",
    "num_epochs = 1\n",
    "for epoch in range(num_epochs):\n",
    "    model.train()\n",
    "    train_loss = 0\n",
    "    for batch_idx, (data, targets) in enumerate(train_loader):\n",
    "        data, targets = data.to(device), targets.to(device)\n",
    "        outputs = model(data)\n",
    "        loss = criterion(outputs.view(-1, vocab_size), targets.view(-1))\n",
    "        optimizer.zero_grad()\n",
    "        loss.backward()\n",
    "        optimizer.step()\n",
    "        train_loss += loss.item()\n",
    "        if batch_idx % 500 == 0:\n",
    "            print(f\"Epoch: {epoch+1} | Batch: {batch_idx+1} | train_Loss: {loss.item()}\")\n",
    "            train_losses.append(loss.item())\n",
    "            \n",
    "    # Calculate the average training loss for this epoch\n",
    "    avg_train_loss = train_loss / len(train_loader)\n",
    "    \n",
    "\n",
    "    # Validation\n",
    "    model.eval()\n",
    "    val_loss = 0\n",
    "    with torch.no_grad():\n",
    "        for batch_idx, (data, targets) in enumerate(valid_loader):\n",
    "            data, targets = data.to(device), targets.to(device)\n",
    "            outputs = model(data)\n",
    "            valid_loss = criterion(outputs.view(-1, vocab_size), targets.view(-1))\n",
    "            val_loss += valid_loss.item()\n",
    "            if batch_idx % 100 == 0:\n",
    "                print(f\"Epoch: {epoch+1} | Batch: {batch_idx+1} | validation_Loss: {valid_loss.item()}\")\n",
    "                val_losses.append(valid_loss)\n",
    "        # Calculate the average validation loss for this epoch\n",
    "        avg_val_loss = val_loss / len(valid_loader)\n",
    "    print(f\"After epoch {epoch+1}: Average Train Loss: {avg_train_loss:.4f}, Average Validation Loss: {avg_val_loss:.4f}\")\n"
   ]
  },
  {
   "cell_type": "markdown",
   "metadata": {},
   "source": [
    "We should not set our expectations too high for this model since it does not have as extensive a parameter set as typical Large Language Models. Moreover, due to the limited computational resources I have (I run these codes on a CPU-based laptop), I have set the training to just one epoch. Usually, more epochs are desired during training. However, as you can see, the loss generally decreases, indicating that the model is learning and improving.\n",
    "\n"
   ]
  },
  {
   "cell_type": "markdown",
   "metadata": {},
   "source": [
    "<h3>Note:</h3>\n",
    "\n",
    "In most training routines, the validation loop is nested inside the epoch loop. Here's a general structure:\n",
    "\n",
    "For each epoch:\n",
    "<ul>\n",
    "    <li>Train the model using the training dataset.</li>\n",
    "    <li>Validate the model using the validation dataset.</li>\n",
    "    <li>Optionally, save the model, update the learning rate, or perform other epoch-level operations.</li>\n",
    "</ul>\n",
    "\n",
    "This structure ensures that after each round of training on the entire training dataset, you get a chance to see how the model is performing on the validation set, which gives insights into whether the model is overfitting, underfitting, or improving."
   ]
  },
  {
   "cell_type": "markdown",
   "metadata": {},
   "source": [
    "By visually comparing these losses, you gain insights into the model's performance and can make informed decisions about further training, tuning, or stopping."
   ]
  },
  {
   "cell_type": "code",
   "execution_count": 17,
   "metadata": {},
   "outputs": [
    {
     "name": "stdout",
     "output_type": "stream",
     "text": [
      "16\n"
     ]
    },
    {
     "data": {
      "image/png": "[encoded data removed]",
      "text/plain": [
       "<Figure size 432x288 with 1 Axes>"
      ]
     },
     "metadata": {
      "needs_background": "light"
     },
     "output_type": "display_data"
    }
   ],
   "source": [
    "import matplotlib.pyplot as plt\n",
    "# train_losses = [l.item() for l in train_losses]\n",
    "plt.plot(train_losses, label='Training Loss')\n",
    "plt.plot(val_losses, label='Validation Loss')\n",
    "print(len(val_losses))\n",
    "plt.xlabel('Epochs')\n",
    "plt.ylabel('Loss')\n",
    "plt.legend()\n",
    "plt.title('Training vs. Validation Loss')\n",
    "plt.show()"
   ]
  },
  {
   "cell_type": "markdown",
   "metadata": {},
   "source": [
    "Ideally, both training and validation losses should decrease over time, with validation loss being somewhat close or slightly higher than the training loss. This suggests that the model is improving and generalizing well to unseen data. \n",
    "\n",
    "Please note that our toy language model isn't delivering strong performance. As previously mentioned, the model we constructed is considerably smaller compared to practical language models. Additionally, we only trained it for a single epoch. Given these factors, the outcome shouldn't be unexpected."
   ]
  },
  {
   "cell_type": "markdown",
   "metadata": {},
   "source": [
    "<h2>Evaluation</h2>"
   ]
  },
  {
   "cell_type": "markdown",
   "metadata": {},
   "source": [
    "Perplexity is a measure used to quantify how effectively a probability distribution or probabilistic model predicts a sample. It gauges the model's level of \"perplexity\" or \"surprise\" when faced with the true distribution. In language modeling, perplexity serves as an indicator of model quality: a lower perplexity signifies superior predictive accuracy.\n",
    "\n",
    "As I mentioned earlier, a language model acts as a probability distribution, estimating the likelihoods of various sentences in a specific language. In essence, every language has an associated probability distribution, though its exact nature remains unknown to us. Techniques like the N-gram method or deep learning allow us to approximate this distribution. When employing deep neural networks in this domain, the loss function used is cross entropy. This metric evaluates the difference between the true probability distribution, which is unknown, and the distribution predicted by the language model. When assessing a language model, our primary interest lies in its performance on unseen data—specifically, the sentences in the test set. A lower cross entropy indicates a model that's less \"perplexed\" and more certain in its predictions. Therefore, perplexity is defined as:"
   ]
  },
  {
   "cell_type": "markdown",
   "metadata": {},
   "source": [
    "$$Perplexity = 2^L$$ where $L$ represents the cross-entropy loss"
   ]
  },
  {
   "cell_type": "markdown",
   "metadata": {},
   "source": [
    "Please note that if the base of the logarithm used in the loss function is $e$, then the perplexity is calculated as $e^L$."
   ]
  },
  {
   "cell_type": "markdown",
   "metadata": {},
   "source": [
    "The following code snippets demonstrate how to evaluate our language model."
   ]
  },
  {
   "cell_type": "code",
   "execution_count": 18,
   "metadata": {},
   "outputs": [],
   "source": [
    "test_raw_text = get_raw_text_from_dataset(PennTreebank(split='test'))\n",
    "test_dataset = PTBDataset(test_raw_text)\n",
    "test_loader = DataLoader(test_dataset, batch_size=64)"
   ]
  },
  {
   "cell_type": "code",
   "execution_count": 19,
   "metadata": {},
   "outputs": [],
   "source": [
    "def evaluate(model, test_loader, device='cpu'):\n",
    "    \"\"\"\n",
    "    Evaluate the model's performance on the provided DataLoader.\n",
    "\n",
    "    Args:\n",
    "    - model (torch.nn.Module): The trained language model.\n",
    "    - test_loader (torch.utils.data.DataLoader): DataLoader for the test set.\n",
    "    - device (str): Device to use ('cpu' or 'cuda').\n",
    "\n",
    "    Returns:\n",
    "    - average_loss (float): The average cross-entropy loss on the test set.\n",
    "    - accuracy (float): The accuracy of the model on the test set.\n",
    "    \"\"\"\n",
    "    model.eval()  # Set the model to evaluation mode\n",
    "    total_loss = 0.0\n",
    "    correct_predictions = 0\n",
    "    total_tokens = 0\n",
    "\n",
    "    criterion = torch.nn.CrossEntropyLoss()\n",
    "\n",
    "    with torch.no_grad():\n",
    "        for inputs, targets in test_loader:\n",
    "            inputs, targets = inputs.to(device), targets.to(device)\n",
    "            outputs = model(inputs)\n",
    "\n",
    "            loss = criterion(outputs.view(-1, outputs.size(2)), targets.view(-1))\n",
    "            total_loss += loss.item()\n",
    "\n",
    "            # Calculate accuracy\n",
    "            _, predicted = outputs.max(2)\n",
    "            correct_predictions += (predicted == targets).sum().item()\n",
    "            total_tokens += targets.numel()\n",
    "\n",
    "    average_loss = total_loss / len(test_loader)\n",
    "    accuracy = correct_predictions / total_tokens\n",
    "\n",
    "    return average_loss, accuracy"
   ]
  },
  {
   "cell_type": "code",
   "execution_count": 20,
   "metadata": {},
   "outputs": [
    {
     "name": "stdout",
     "output_type": "stream",
     "text": [
      "Evaluation - Loss: 4.133694573380481, Accuracy: 0.3676947815897291\n"
     ]
    }
   ],
   "source": [
    "loss, accuracy = evaluate(model, test_loader)\n",
    "print(f'Evaluation - Loss: {loss}, Accuracy: {accuracy}')"
   ]
  },
  {
   "cell_type": "code",
   "execution_count": 21,
   "metadata": {},
   "outputs": [
    {
     "name": "stdout",
     "output_type": "stream",
     "text": [
      "Perplexity: 62.40807342529297\n"
     ]
    }
   ],
   "source": [
    "import torch\n",
    "perplexity = torch.exp(torch.tensor(loss))\n",
    "print(f'Perplexity: {perplexity.item()}')"
   ]
  },
  {
   "cell_type": "markdown",
   "metadata": {},
   "source": [
    "<h2>Summary</h2>"
   ]
  },
  {
   "cell_type": "markdown",
   "metadata": {},
   "source": [
    "<ul>\n",
    "    <li>A language model essentially represents a probability distribution, denoted as \\(p(x_1, x_2, \\dots, x_m)\\).</li>\n",
    "    <li>\\(p(x_1, x_2, \\dots, x_m)\\) indicates the likelihood of observing a particular sequence of tokens.</li>\n",
    "    <li>Utilizing the chain rule of probability, we can express \\(p(x_1, x_2, \\dots, x_m)\\) as \\(\\prod_{i=1}^m p(x_i | x_1:i−1)\\). This conditional probability allows us to generate tokens successively based on preceding tokens.</li>\n",
    "    <li>While we don't possess this exact probability distribution, we can approximate it using deep neural networks.</li>\n",
    "    <li>Fully connected neural networks aren't ideal for modeling sequences, which is why we initially construct our model using an LSTM layer.</li>\n",
    "    <li>Although LSTMs and GRUs, which are variants of the vanilla RNN, emerged as solutions for sequence modeling, they possess inherent limitations, especially when dealing with long-distance dependencies. Additionally, RNNs process tokens sequentially and cannot do so in parallel.</li>\n",
    "    <li>Transformers, on the other hand, excel at maintaining long-distance dependencies and can analyze tokens in parallel, thanks to the attention mechanism they employ at their core.</li>\n",
    "</ul>\n"
   ]
  },
  {
   "cell_type": "markdown",
   "metadata": {},
   "source": [
    "<h2>What's Next</h2>\n",
    "<ul>\n",
    "    <li>In the next post, I will explain the concept of <span style=\"background-color: yellow;\">Mixture of Experts (MoEs)</span> and <span style=\"background-color: yellow;\">Switch Transformers<span>.</li>\n",
    "    <li>In that same post, I will demonstrate how to modify the model that we constructed earlier to incorporate MoE and Switch Transformers.</li>\n",
    "    <li>Subsequently, in another post, I will explain how to evaluate a language model. In this post, I have just briefly explained perplexity.</li>\n",
    "</ul>\n"
   ]
  },
  {
   "cell_type": "markdown",
   "metadata": {},
   "source": [
    "\n",
    "\n"
   ]
  }
 ],
 "metadata": {
  "kernelspec": {
   "display_name": "seq2seqvenv",
   "language": "python",
   "name": "seq2seqvenv"
  },
  "language_info": {
   "codemirror_mode": {
    "name": "ipython",
    "version": 3
   },
   "file_extension": ".py",
   "mimetype": "text/x-python",
   "name": "python",
   "nbconvert_exporter": "python",
   "pygments_lexer": "ipython3",
   "version": "3.8.2"
  }
 },
 "nbformat": 4,
 "nbformat_minor": 1
}
